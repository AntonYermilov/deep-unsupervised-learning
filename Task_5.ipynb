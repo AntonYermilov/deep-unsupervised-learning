{
  "nbformat": 4,
  "nbformat_minor": 0,
  "metadata": {
    "colab": {
      "name": "DUL, Task 5",
      "provenance": [],
      "machine_shape": "hm"
    },
    "kernelspec": {
      "name": "python3",
      "display_name": "Python 3"
    },
    "accelerator": "GPU"
  },
  "cells": [
    {
      "cell_type": "code",
      "metadata": {
        "id": "YZQZPC69lpT1",
        "colab_type": "code",
        "colab": {
          "base_uri": "https://localhost:8080/",
          "height": 250
        },
        "outputId": "da466f17-5fcd-49c2-a2c8-511fdcd87fac"
      },
      "source": [
        "!pip3 install --upgrade tqdm"
      ],
      "execution_count": 3,
      "outputs": [
        {
          "output_type": "stream",
          "text": [
            "Collecting tqdm\n",
            "\u001b[?25l  Downloading https://files.pythonhosted.org/packages/a5/13/cd55c23e3e158ed5b87cae415ee3844fc54cb43803fa3a0a064d23ecb883/tqdm-4.40.0-py2.py3-none-any.whl (54kB)\n",
            "\r\u001b[K     |██████                          | 10kB 16.8MB/s eta 0:00:01\r\u001b[K     |████████████                    | 20kB 3.5MB/s eta 0:00:01\r\u001b[K     |█████████████████▉              | 30kB 5.0MB/s eta 0:00:01\r\u001b[K     |███████████████████████▉        | 40kB 6.4MB/s eta 0:00:01\r\u001b[K     |█████████████████████████████▉  | 51kB 4.2MB/s eta 0:00:01\r\u001b[K     |████████████████████████████████| 61kB 3.3MB/s \n",
            "\u001b[?25hInstalling collected packages: tqdm\n",
            "  Found existing installation: tqdm 4.28.1\n",
            "    Uninstalling tqdm-4.28.1:\n",
            "      Successfully uninstalled tqdm-4.28.1\n",
            "Successfully installed tqdm-4.40.0\n"
          ],
          "name": "stdout"
        },
        {
          "output_type": "display_data",
          "data": {
            "application/vnd.colab-display-data+json": {
              "pip_warning": {
                "packages": [
                  "tqdm"
                ]
              }
            }
          },
          "metadata": {
            "tags": []
          }
        }
      ]
    },
    {
      "cell_type": "code",
      "metadata": {
        "id": "qKje8Gq0rBA7",
        "colab_type": "code",
        "colab": {}
      },
      "source": [
        "import numpy as np\n",
        "import torch\n",
        "import torch.nn as nn\n",
        "import torch.nn.functional as F\n",
        "from torch.distributions import Normal\n",
        "from torch.utils.data import TensorDataset, DataLoader, RandomSampler, SequentialSampler\n",
        "from torch.optim import Adam\n",
        "from torch.nn import NLLLoss, CrossEntropyLoss\n",
        "from sklearn.model_selection import train_test_split\n",
        "from tqdm.notebook import tqdm\n",
        "from typing import Tuple\n",
        "\n",
        "import plotly.offline as py\n",
        "import plotly.graph_objs as go\n",
        "import plotly.express as px\n",
        "import plotly.figure_factory as ff"
      ],
      "execution_count": 0,
      "outputs": []
    },
    {
      "cell_type": "code",
      "metadata": {
        "id": "tDmVA2SXrCeE",
        "colab_type": "code",
        "colab": {}
      },
      "source": [
        "device = torch.device('cuda' if torch.cuda.is_available() else 'cpu')"
      ],
      "execution_count": 0,
      "outputs": []
    },
    {
      "cell_type": "code",
      "metadata": {
        "id": "Jlj0YfEErKlw",
        "colab_type": "code",
        "colab": {}
      },
      "source": [
        "class CheckerboardSplit(nn.Module):\n",
        "    def __init__(self):\n",
        "        super().__init__()\n",
        "\n",
        "    def forward(self, X):\n",
        "        b, c, h, w = X.shape\n",
        "        \n",
        "        mask1 = torch.tensor([[True, False], [False, True]]).repeat(h // 2, w // 2)\n",
        "        mask2 = torch.tensor([[False, True], [True, False]]).repeat(h // 2, w // 2)\n",
        "\n",
        "        x1 = X[:,:,mask1].view(b, c, h, w // 2)\n",
        "        x2 = X[:,:,mask2].view(b, c, h, w // 2)\n",
        "        \n",
        "        return (x1, x2)\n",
        "\n",
        "\n",
        "class ChannelSplit(nn.Module):\n",
        "    def __init__(self):\n",
        "        super().__init__()\n",
        "\n",
        "    def forward(self, X):\n",
        "        b, c, h, w = X.shape\n",
        "        x1, x2 = torch.split(X, c // 2, dim=1)\n",
        "        return (x1, x2)\n",
        "\n",
        "\n",
        "class AffineCouplingBlock(nn.Module):\n",
        "    def __init__(self, n_filters):\n",
        "        super().__init__()\n",
        "        self.transform = nn.Sequential(\n",
        "            nn.Conv2d(n_filters, n_filters, kernel_size=1, stride=1, padding=0),\n",
        "            nn.ReLU(),\n",
        "            nn.Conv2d(n_filters, n_filters, kernel_size=3, stride=1, padding=1),\n",
        "            nn.ReLU(),\n",
        "            nn.Conv2d(n_filters, n_filters, kernel_size=1, stride=1, padding=0)\n",
        "        )\n",
        "    \n",
        "    def forward(self, h):\n",
        "        h = h + self.transform(h)\n",
        "        return h\n",
        "\n",
        "class AffineCoupling(nn.Module):\n",
        "    def __init__(self, c_in, *, n_filters=256, n_blocks=8):\n",
        "        super().__init__()\n",
        "\n",
        "        self.c_in = c_in\n",
        "        self.simple_resnet = nn.Sequential(\n",
        "            nn.Conv2d(c_in, n_filters, kernel_size=3, stride=1, padding=1),\n",
        "            *[\n",
        "                AffineCouplingBlock(n_filters) for _ in range(n_blocks)\n",
        "             ],\n",
        "            nn.ReLU(),\n",
        "            nn.Conv2d(n_filters, 2 * c_in, kernel_size=3, stride=1, padding=1)\n",
        "        )\n",
        "    \n",
        "    def forward(self, X):\n",
        "        x1, x2 = X\n",
        "        log_s, t = torch.split(self.simple_resnet(x1), self.c_in, dim=1)\n",
        "        y1, y2 = x1, torch.exp(log_s) * (x1 + t)\n",
        "        return (y1, y2)\n",
        "        \n",
        "\n",
        "class TupleFlip(nn.Module):\n",
        "    def __init__(self):\n",
        "        super().__init__()\n",
        "\n",
        "    def forward(self, X):\n",
        "        x1, x2 = X\n",
        "        return (x2, x1)\n",
        "\n",
        "\n",
        "class InverseCheckerboardSplit(nn.Module):\n",
        "    def __init__(self):\n",
        "        super().__init__()\n",
        "\n",
        "    def forward(self, X):\n",
        "        x1, x2 = X\n",
        "        b, c, h, w = x1.shape\n",
        "\n",
        "        mask1 = torch.tensor([[True, False], [False, True]]).repeat(h // 2, w)\n",
        "        mask2 = torch.tensor([[False, True], [True, False]]).repeat(h // 2, w)\n",
        "\n",
        "        Y = torch.zeros(b, c, h, w * 2)\n",
        "        Y[:,:,mask1] = x1.view(b, c, -1)\n",
        "        Y[:,:,mask2] = x2.view(b, c, -1)\n",
        "        return Y\n",
        "\n",
        "\n",
        "class InverseChannelSplit(nn.Module):\n",
        "    def __init__(self):\n",
        "        super().__init__()\n",
        "\n",
        "    def forward(self, X):\n",
        "        Y = torch.cat(X, dim=1)\n",
        "        return Y\n",
        "\n",
        "\n",
        "class Squeeze(nn.Module):\n",
        "    def __init__(self):\n",
        "        super().__init__()\n",
        "\n",
        "    def forward(self, X):\n",
        "        b, c, h, w = X.shape\n",
        "        \n",
        "        mask1 = torch.tensor([[True, False], [False, False]]).repeat(h // 2, w // 2)\n",
        "        mask2 = torch.tensor([[False, True], [False, False]]).repeat(h // 2, w // 2)\n",
        "        mask3 = torch.tensor([[False, False], [True, False]]).repeat(h // 2, w // 2)\n",
        "        mask4 = torch.tensor([[False, False], [False, True]]).repeat(h // 2, w // 2)\n",
        "\n",
        "        y1 = X[:,:,mask1].view(b, c, h // 2, w // 2)\n",
        "        y2 = X[:,:,mask2].view(b, c, h // 2, w // 2)\n",
        "        y3 = X[:,:,mask3].view(b, c, h // 2, w // 2)\n",
        "        y4 = X[:,:,mask4].view(b, c, h // 2, w // 2)\n",
        "\n",
        "        Y = torch.cat([y1, y2, y3, y4], dim=1)\n",
        "        return Y"
      ],
      "execution_count": 0,
      "outputs": []
    },
    {
      "cell_type": "code",
      "metadata": {
        "id": "sIneBc-CSD_D",
        "colab_type": "code",
        "colab": {}
      },
      "source": [
        "class CelebModel(nn.Module):\n",
        "    def __init__(self, c_in):\n",
        "        super().__init__()\n",
        "\n",
        "        self.transform = nn.Sequential(\n",
        "            CheckerboardSplit(),\n",
        "            *[\n",
        "                nn.Sequential(\n",
        "                    AffineCoupling(c_in),\n",
        "                    TupleFlip()\n",
        "                ) for _ in range(4)\n",
        "            ],\n",
        "            InverseCheckerboardSplit(),\n",
        "\n",
        "            Squeeze(),\n",
        "\n",
        "            ChannelSplit(),\n",
        "            *[\n",
        "                nn.Sequential(\n",
        "                    AffineCoupling(2 * c_in),\n",
        "                    TupleFlip()\n",
        "                ) for _ in range(3)\n",
        "            ],\n",
        "            InverseChannelSplit(),\n",
        "\n",
        "            CheckerboardSplit(),\n",
        "            *[\n",
        "                nn.Sequential(\n",
        "                    AffineCoupling(4 * c_in),\n",
        "                    TupleFlip()\n",
        "                ) for _ in range(3)\n",
        "            ],\n",
        "            InverseCheckerboardSplit(),\n",
        "            \n",
        "            Squeeze(),\n",
        "\n",
        "            ChannelSplit(),\n",
        "            *[\n",
        "                nn.Sequential(\n",
        "                    AffineCoupling(8 * c_in),\n",
        "                    TupleFlip()\n",
        "                ) for _ in range(3)\n",
        "            ],\n",
        "            InverseChannelSplit(),\n",
        "\n",
        "            CheckerboardSplit(),\n",
        "            *[\n",
        "                nn.Sequential(\n",
        "                    AffineCoupling(16 * c_in),\n",
        "                    TupleFlip()\n",
        "                ) for _ in range(3)\n",
        "            ],\n",
        "            InverseCheckerboardSplit()\n",
        "        )\n",
        "    \n",
        "    def forward(self, X):\n",
        "        X = self.transform(X)\n",
        "        return X"
      ],
      "execution_count": 0,
      "outputs": []
    },
    {
      "cell_type": "code",
      "metadata": {
        "id": "G606K8Sb776i",
        "colab_type": "code",
        "colab": {}
      },
      "source": [
        "w, h = 32, 32\n",
        "model = CelebModel(3)"
      ],
      "execution_count": 0,
      "outputs": []
    },
    {
      "cell_type": "code",
      "metadata": {
        "id": "YVv7-1Oh8ACr",
        "colab_type": "code",
        "colab": {}
      },
      "source": [
        "Z = model(torch.randn(2, 3, h, w))"
      ],
      "execution_count": 0,
      "outputs": []
    },
    {
      "cell_type": "code",
      "metadata": {
        "id": "wWL9qcpt8CB5",
        "colab_type": "code",
        "colab": {
          "base_uri": "https://localhost:8080/",
          "height": 35
        },
        "outputId": "cffc3d53-5ca0-4c12-9f17-83510b2e1a04"
      },
      "source": [
        "Z.shape"
      ],
      "execution_count": 86,
      "outputs": [
        {
          "output_type": "execute_result",
          "data": {
            "text/plain": [
              "torch.Size([2, 48, 8, 8])"
            ]
          },
          "metadata": {
            "tags": []
          },
          "execution_count": 86
        }
      ]
    },
    {
      "cell_type": "code",
      "metadata": {
        "id": "WXWXqJogVCcV",
        "colab_type": "code",
        "colab": {
          "base_uri": "https://localhost:8080/",
          "height": 1000
        },
        "outputId": "969e6551-d03e-415c-ab30-0c9eb1479420"
      },
      "source": [
        "Z"
      ],
      "execution_count": 58,
      "outputs": [
        {
          "output_type": "execute_result",
          "data": {
            "text/plain": [
              "tensor([[[[-8.2260e-01, -8.4404e-01, -4.2416e-01,  ...,  1.1539e+00,\n",
              "            9.2918e-01,  8.2985e-01],\n",
              "          [ 1.6781e+00,  1.5061e+00,  1.3250e+00,  ...,  1.2642e+00,\n",
              "            7.2473e-01,  6.8122e-01],\n",
              "          [ 1.0881e+00,  1.0760e+00,  5.5404e-01,  ..., -4.1125e-01,\n",
              "           -3.9030e-01, -3.2707e-01],\n",
              "          ...,\n",
              "          [ 3.5591e+00,  3.8263e+00,  1.2163e+00,  ..., -6.6586e-01,\n",
              "           -1.9238e+00, -1.7205e+00],\n",
              "          [ 1.5570e+00,  2.2883e+00, -7.4584e-01,  ...,  1.7321e+00,\n",
              "           -4.8728e-01, -5.1052e-01],\n",
              "          [-5.0331e-01, -6.6329e-01,  3.4068e-01,  ..., -5.8974e-01,\n",
              "            8.0413e-01,  6.7210e-01]],\n",
              "\n",
              "         [[-7.8825e-02, -1.7988e-01, -4.7321e-01,  ..., -6.4529e-01,\n",
              "            1.6685e+00,  1.4285e+00],\n",
              "          [-8.9735e-01, -8.1413e-01, -4.8527e-02,  ...,  7.7919e-01,\n",
              "           -4.9819e-01, -5.8922e-01],\n",
              "          [ 1.3988e+00,  1.5623e+00,  8.0480e-01,  ..., -1.0357e+00,\n",
              "           -1.5504e+00, -1.3215e+00],\n",
              "          ...,\n",
              "          [ 1.7972e+00,  1.8391e+00,  2.5184e-01,  ...,  4.3859e-01,\n",
              "           -9.3515e-01, -1.2391e+00],\n",
              "          [ 2.6128e-01,  1.0785e-02, -1.6416e-01,  ...,  2.5028e-01,\n",
              "            1.1065e+00,  8.8519e-01],\n",
              "          [-3.1694e-01, -2.2283e-01,  1.1857e+00,  ...,  8.4404e-01,\n",
              "           -6.1873e-02, -9.2171e-02]],\n",
              "\n",
              "         [[-1.0697e-01, -5.7792e-02, -3.2688e-01,  ..., -3.3443e-01,\n",
              "            1.7350e+00,  1.3923e+00],\n",
              "          [-1.0992e-01, -1.9344e-01,  2.7163e-02,  ...,  5.6653e-01,\n",
              "            6.7080e-01,  5.2179e-01],\n",
              "          [-1.5990e-01, -1.5500e-01,  7.1675e-01,  ..., -1.6903e-01,\n",
              "            4.3870e-01,  5.3857e-01],\n",
              "          ...,\n",
              "          [-6.1574e-01, -5.5243e-01,  7.3585e-01,  ..., -7.5777e-01,\n",
              "            3.5344e-01,  1.4818e-01],\n",
              "          [ 2.0951e-01,  3.7379e-01,  1.5451e+00,  ..., -4.1485e-01,\n",
              "            2.6891e-02, -1.4565e-01],\n",
              "          [ 2.9287e-01,  1.9264e-01, -2.6329e-01,  ...,  3.7646e-01,\n",
              "            6.9024e-01,  6.5935e-01]]],\n",
              "\n",
              "\n",
              "        [[[ 3.0096e-01,  4.5999e-01, -1.4955e-01,  ..., -3.6047e-01,\n",
              "            6.7723e-01,  7.1200e-01],\n",
              "          [-1.1287e+00, -1.1037e+00,  1.0006e-01,  ..., -3.6717e-01,\n",
              "           -9.6763e-01, -9.9360e-01],\n",
              "          [ 9.7844e-01,  1.2155e+00,  2.3688e-02,  ...,  8.7608e-01,\n",
              "            2.9299e-02,  1.6236e-01],\n",
              "          ...,\n",
              "          [ 8.5393e-01,  8.9055e-01,  1.8154e-03,  ..., -4.2780e-01,\n",
              "            1.6805e-01,  1.3054e-01],\n",
              "          [-1.4681e+00, -1.1145e+00, -2.1626e-01,  ..., -4.8453e-01,\n",
              "            1.1571e+00,  1.0781e+00],\n",
              "          [-1.4996e+00, -1.6023e+00, -1.3716e+00,  ..., -1.4859e+00,\n",
              "           -4.2759e-01, -2.5382e-01]],\n",
              "\n",
              "         [[-2.4640e-01, -3.1159e-01, -1.6828e+00,  ..., -8.9791e-01,\n",
              "           -1.8718e+00, -1.7334e+00],\n",
              "          [-3.0535e-01, -3.6496e-01,  1.1410e+00,  ...,  9.5948e-01,\n",
              "           -1.1155e+00, -1.7248e+00],\n",
              "          [-2.1021e-01, -4.6906e-01,  7.9541e-01,  ..., -9.5959e-01,\n",
              "            8.4351e-01,  7.2621e-01],\n",
              "          ...,\n",
              "          [-1.0114e+00, -1.2844e+00, -6.2697e-01,  ..., -6.1040e-01,\n",
              "            1.5712e+00,  1.7545e+00],\n",
              "          [ 6.5137e-02, -1.3291e-01, -2.3088e+00,  ...,  5.9784e-01,\n",
              "            1.1402e+00,  1.0344e+00],\n",
              "          [-5.5686e-01, -4.9148e-01,  8.3591e-01,  ..., -1.9628e-01,\n",
              "           -1.6494e+00, -1.8842e+00]],\n",
              "\n",
              "         [[-4.0361e-01, -4.6216e-01,  1.2576e+00,  ..., -2.5096e-01,\n",
              "            1.1585e+00,  1.2910e+00],\n",
              "          [ 7.8919e-02,  1.6100e-01, -1.3393e-01,  ..., -7.6227e-01,\n",
              "           -1.2771e+00, -1.2684e+00],\n",
              "          [ 1.1516e-02, -9.3470e-02, -3.5462e-01,  ..., -4.8435e-01,\n",
              "            1.9314e+00,  1.6943e+00],\n",
              "          ...,\n",
              "          [-7.7943e-01, -7.2937e-01,  4.1976e-01,  ...,  7.6618e-01,\n",
              "            9.9173e-01,  1.7331e+00],\n",
              "          [ 7.0682e-01,  6.0565e-01,  1.9864e-01,  ..., -5.4581e-02,\n",
              "           -7.6809e-01, -5.9607e-01],\n",
              "          [-1.1987e+00, -1.1812e+00,  2.6670e-01,  ...,  9.0686e-01,\n",
              "            1.1574e+00,  9.2427e-01]]]], grad_fn=<IndexPutBackward>)"
            ]
          },
          "metadata": {
            "tags": []
          },
          "execution_count": 58
        }
      ]
    },
    {
      "cell_type": "code",
      "metadata": {
        "id": "SYO28x63gGqh",
        "colab_type": "code",
        "colab": {}
      },
      "source": [
        ""
      ],
      "execution_count": 0,
      "outputs": []
    }
  ]
}